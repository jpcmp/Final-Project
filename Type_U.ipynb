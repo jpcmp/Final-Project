{
 "cells": [
  {
   "cell_type": "code",
   "execution_count": 122,
   "metadata": {},
   "outputs": [],
   "source": [
    "#import sys\n",
    "#!{sys.executable} -m pip install pyglet"
   ]
  },
  {
   "cell_type": "code",
   "execution_count": 2,
   "metadata": {},
   "outputs": [],
   "source": [
    "import pyautogui as pa\n",
    "import pandas as pd\n",
    "import time\n",
    "from datetime import datetime\n",
    "import cv2\n",
    "from win32api import GetKeyState \n",
    "from win32con import VK_CAPITAL \n",
    "pa.moveTo(2000, 230)"
   ]
  },
  {
   "cell_type": "code",
   "execution_count": 179,
   "metadata": {},
   "outputs": [
    {
     "name": "stdout",
     "output_type": "stream",
     "text": [
      "['EQL.U', 'HOM.U', 'IVQ.DB.V', 'SWY.DB.U', 'TCN.DB.U', 'ZSP.U']\n",
      "Cheers! We are done.\n"
     ]
    }
   ],
   "source": [
    "date = '20190403'\n",
    "csv=pd.read_csv('I:/algo/Olivia/Daily Trade Files/daily_all_eqder_'+date+'.csv').groupby(['Symbol'])['Volume'].sum().reset_index()\n",
    "symb = csv.loc[csv['Symbol'].str.endswith((\".U\",\".V\"))]\n",
    "U_types = symb['Symbol'].tolist()\n",
    "print(U_types)\n",
    "if GetKeyState(VK_CAPITAL) == 1 : pa.press('capslock')\n",
    "pa.moveTo(2000, 230)\n",
    "pa.click()\n",
    "pa.hotkey('ctrl','1', interval=0.2)\n",
    "pa.press('tab')\n",
    "pa.press('a')\n",
    "pa.press('tab')\n",
    "pa.press('del')\n",
    "pa.press('tab')\n",
    "pa.press('tab')\n",
    "pa.press('y')\n",
    "pa.press('tab')\n",
    "pa.press('y')\n",
    "pa.press('\\n')\n",
    "#U_types = ['IVQ.U','CEF.U','CUP.U','DAP.U','FFH.U','','FIH.U','PHYS.U','PSLV.U','SBT.U','TH.DB.U','WIR.U','RUSB.U','HOM.U','AKU.U','RLTY.U','ZWH.U','HOT.DB.U','IVQ.DB.V','BB.DB.V','MIT.DB.V','ZUS.V']\n",
    "for symbol in U_types:\n",
    "    pa.press('tab')\n",
    "    pa.typewrite(symbol)\n",
    "    pa.press('\\n')\n",
    "    time.sleep(0.5)\n",
    "    pa.press('down')\n",
    "    pa.hotkey('ctrl','a')\n",
    "    pa.press('apps')\n",
    "    pa.press('w')\n",
    "    pa.press('y')\n",
    "    pa.press('w')\n",
    "    try:        \n",
    "        clients = pd.read_clipboard()\n",
    "        pa.press('right')\n",
    "        for client, service in zip(clients.Cpty, clients.Service):\n",
    "            if client not in ['BMOCC']:\n",
    "                pa.press('l')\n",
    "                pa.moveTo(2000, 630)\n",
    "                pa.click()\n",
    "                time.sleep(0.2)\n",
    "                pa.hotkey('ctrl','a')\n",
    "                pa.press('apps')\n",
    "                pa.press('w')\n",
    "                pa.press('y')\n",
    "                pa.press('w')\n",
    "                pa.press('enter')\n",
    "                df = pd.read_clipboard(sep='\\t')\n",
    "                pa.press('home')\n",
    "                for item, status in zip(df['Counterparty account code'],df['Status']):\n",
    "                    if pd.notna(item) and (item[-4:] == \"_DTC\" or item[-4:] == \"_USD\") and status != 'ACAN':\n",
    "                        print(symbol, client, item)\n",
    "                        pa.press('n')\n",
    "                        time.sleep(1)\n",
    "                        pa.press('end')\n",
    "                        pa.press('backspace')\n",
    "                        pa.press('backspace')\n",
    "                        pa.press('backspace')\n",
    "                        pa.typewrite('CDS')\n",
    "                        pa.keyDown('shift')\n",
    "                        pa.press('tab')\n",
    "                        pa.keyUp('shift')\n",
    "                        pa.press('end')\n",
    "                        pa.press('tab')\n",
    "                        pa.press('tab')\n",
    "                        pa.press('d')\n",
    "                        pa.press('d')\n",
    "                        pa.press('tab')\n",
    "                        pa.press('enter')\n",
    "                        time.sleep(0.2)\n",
    "                        pa.press('enter')\n",
    "                        time.sleep(0.2)\n",
    "                        pa.press('enter')\n",
    "                        time.sleep(0.2)\n",
    "                        pa.press('down')\n",
    "                    else:\n",
    "                        pa.press('down')\n",
    "                time.sleep(0.2)\n",
    "                pa.hotkey('ctrl','1', interval=0.2)\n",
    "                time.sleep(0.2)\n",
    "            pa.press('down') \n",
    "    except:\n",
    "        None\n",
    "print('Cheers! We are done.')"
   ]
  },
  {
   "cell_type": "code",
   "execution_count": null,
   "metadata": {},
   "outputs": [],
   "source": []
  }
 ],
 "metadata": {
  "celltoolbar": "Raw Cell Format",
  "kernelspec": {
   "display_name": "Python 3",
   "language": "python",
   "name": "python3"
  },
  "language_info": {
   "codemirror_mode": {
    "name": "ipython",
    "version": 3
   },
   "file_extension": ".py",
   "mimetype": "text/x-python",
   "name": "python",
   "nbconvert_exporter": "python",
   "pygments_lexer": "ipython3",
   "version": "3.7.1"
  }
 },
 "nbformat": 4,
 "nbformat_minor": 2
}
